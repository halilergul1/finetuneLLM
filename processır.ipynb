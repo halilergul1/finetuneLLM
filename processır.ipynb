{
 "cells": [
  {
   "cell_type": "code",
   "execution_count": 66,
   "metadata": {},
   "outputs": [
    {
     "name": "stdout",
     "output_type": "stream",
     "text": [
      "Transformation complete. Data saved in 'alpaca_style_data.json'.\n"
     ]
    }
   ],
   "source": [
    "import json\n",
    "\n",
    "# Function to transform the original format to the desired format\n",
    "def transform_object(original_obj):\n",
    "    instruction = original_obj.get(\"instruction\", \"\")\n",
    "    input_data = original_obj.get(\"input\", \"\")\n",
    "    response = original_obj.get(\"response\", \"\")\n",
    "\n",
    "    return {\n",
    "        \"text\": f\"Below is an instruction that describes a recommendation engine task. Write a response that appropriately completes the request. ### Instruction: {instruction} ### Input: {input_data} ### Response: {response}\"\n",
    "    }\n",
    "\n",
    "# Read the original JSON file\n",
    "with open('/Users/halilergul/Desktop/thesis_researcg/data/real_data/customer_predictions_locations.json', 'r',encoding='utf-8') as file:\n",
    "    original_data = json.load(file)\n",
    "\n",
    "# Transform each object\n",
    "transformed_data = [transform_object(obj) for obj in original_data]\n",
    "\n",
    "# Write the transformed data into a new JSON file\n",
    "with open('/Users/halilergul/Desktop/thesis_researcg/data/real_data/alpaca_style_data.json', 'w',encoding='utf-8') as file:\n",
    "    json.dump(transformed_data, file, indent=4, ensure_ascii=False)\n",
    "\n",
    "print(\"Transformation complete. Data saved in 'alpaca_style_data.json'.\")\n"
   ]
  },
  {
   "cell_type": "code",
   "execution_count": 2,
   "metadata": {},
   "outputs": [
    {
     "data": {
      "text/html": [
       "<div>\n",
       "<style scoped>\n",
       "    .dataframe tbody tr th:only-of-type {\n",
       "        vertical-align: middle;\n",
       "    }\n",
       "\n",
       "    .dataframe tbody tr th {\n",
       "        vertical-align: top;\n",
       "    }\n",
       "\n",
       "    .dataframe thead th {\n",
       "        text-align: right;\n",
       "    }\n",
       "</style>\n",
       "<table border=\"1\" class=\"dataframe\">\n",
       "  <thead>\n",
       "    <tr style=\"text-align: right;\">\n",
       "      <th></th>\n",
       "      <th>Actual</th>\n",
       "      <th>Expected</th>\n",
       "    </tr>\n",
       "  </thead>\n",
       "  <tbody>\n",
       "    <tr>\n",
       "      <th>0</th>\n",
       "      <td>\\nI am &lt;4316906&gt;. I am 38 years old, married M...</td>\n",
       "      <td>\"Gas and Fuel Stations&lt;/s&gt;\"</td>\n",
       "    </tr>\n",
       "    <tr>\n",
       "      <th>1</th>\n",
       "      <td>\\nClothing and Accessories</td>\n",
       "      <td>\"Clothing and Accessories&lt;/s&gt;\"</td>\n",
       "    </tr>\n",
       "    <tr>\n",
       "      <th>2</th>\n",
       "      <td>\\nGas and Fuel Stations</td>\n",
       "      <td>\"Gas and Fuel Stations&lt;/s&gt;\"</td>\n",
       "    </tr>\n",
       "    <tr>\n",
       "      <th>3</th>\n",
       "      <td>\\nVarious Foods</td>\n",
       "      <td>\"Various Foods&lt;/s&gt;\"</td>\n",
       "    </tr>\n",
       "    <tr>\n",
       "      <th>4</th>\n",
       "      <td>\\nGas and Fuel Stations, Gas and Fuel Stations...</td>\n",
       "      <td>\"Markets and Shopping Centers&lt;/s&gt;\"</td>\n",
       "    </tr>\n",
       "    <tr>\n",
       "      <th>...</th>\n",
       "      <td>...</td>\n",
       "      <td>...</td>\n",
       "    </tr>\n",
       "    <tr>\n",
       "      <th>901</th>\n",
       "      <td>\\nMarkets and Shopping Centers, Markets and Sh...</td>\n",
       "      <td>\"Markets and Shopping Centers&lt;/s&gt;\"</td>\n",
       "    </tr>\n",
       "    <tr>\n",
       "      <th>902</th>\n",
       "      <td>\\nBased on your demographic information and hi...</td>\n",
       "      <td>\"Building Materials, Hardware&lt;/s&gt;\"</td>\n",
       "    </tr>\n",
       "    <tr>\n",
       "      <th>903</th>\n",
       "      <td>\\nClothing and Accessories</td>\n",
       "      <td>\"Clothing and Accessories&lt;/s&gt;\"</td>\n",
       "    </tr>\n",
       "    <tr>\n",
       "      <th>904</th>\n",
       "      <td>\\nMarkets and Shopping Centers, Various Foods,...</td>\n",
       "      <td>\"Markets and Shopping Centers&lt;/s&gt;\"</td>\n",
       "    </tr>\n",
       "    <tr>\n",
       "      <th>905</th>\n",
       "      <td>\\nMarkets and Shopping Centers, Gas and Fuel S...</td>\n",
       "      <td>\"Gas and Fuel Stations&lt;/s&gt;\"</td>\n",
       "    </tr>\n",
       "  </tbody>\n",
       "</table>\n",
       "<p>906 rows × 2 columns</p>\n",
       "</div>"
      ],
      "text/plain": [
       "                                                Actual  \\\n",
       "0    \\nI am <4316906>. I am 38 years old, married M...   \n",
       "1                           \\nClothing and Accessories   \n",
       "2                              \\nGas and Fuel Stations   \n",
       "3                                      \\nVarious Foods   \n",
       "4    \\nGas and Fuel Stations, Gas and Fuel Stations...   \n",
       "..                                                 ...   \n",
       "901  \\nMarkets and Shopping Centers, Markets and Sh...   \n",
       "902  \\nBased on your demographic information and hi...   \n",
       "903                         \\nClothing and Accessories   \n",
       "904  \\nMarkets and Shopping Centers, Various Foods,...   \n",
       "905  \\nMarkets and Shopping Centers, Gas and Fuel S...   \n",
       "\n",
       "                               Expected  \n",
       "0           \"Gas and Fuel Stations</s>\"  \n",
       "1        \"Clothing and Accessories</s>\"  \n",
       "2           \"Gas and Fuel Stations</s>\"  \n",
       "3                   \"Various Foods</s>\"  \n",
       "4    \"Markets and Shopping Centers</s>\"  \n",
       "..                                  ...  \n",
       "901  \"Markets and Shopping Centers</s>\"  \n",
       "902  \"Building Materials, Hardware</s>\"  \n",
       "903      \"Clothing and Accessories</s>\"  \n",
       "904  \"Markets and Shopping Centers</s>\"  \n",
       "905         \"Gas and Fuel Stations</s>\"  \n",
       "\n",
       "[906 rows x 2 columns]"
      ]
     },
     "execution_count": 2,
     "metadata": {},
     "output_type": "execute_result"
    }
   ],
   "source": [
    "# different format\n",
    "import pandas as pd \n",
    "\n",
    "file_path = \"/Users/halilergul/Downloads/predictions.csv\"\n",
    "data = pd.read_csv(file_path)\n",
    "data"
   ]
  },
  {
   "cell_type": "code",
   "execution_count": 13,
   "metadata": {},
   "outputs": [],
   "source": [
    "# make all csv files in a folder to excel with their same names but add _excel to the end\n",
    "import os\n",
    "import pandas as pd\n",
    "\n",
    "csv_directory = \"/Users/halilergul/Desktop/thesis_researcg/predictions\"\n",
    "\n",
    "for file in os.listdir(csv_directory):\n",
    "    if file.endswith(\".csv\"):\n",
    "        file_path = os.path.join(csv_directory, file)\n",
    "        data = pd.read_csv(file_path)\n",
    "        data.to_excel(file_path.replace(\".csv\", \"_excel.xlsx\"), index=False)\n"
   ]
  },
  {
   "cell_type": "code",
   "execution_count": 17,
   "metadata": {},
   "outputs": [],
   "source": [
    "from datetime import datetime\n",
    "import pandas as pd\n",
    "# now read the excel file\n",
    "file_path = \"/Users/halilergul/Desktop/thesis_researcg/predictions/predictions_excel.xlsx\"\n",
    "df = pd.read_excel(file_path)\n",
    "\n",
    "# Function to determine correctness\n",
    "def determine_correctness(row):\n",
    "    actual_chunks = row['actual'].split(']')\n",
    "    # Check if there is a ']' symbol to split by\n",
    "    if len(actual_chunks) > 1:\n",
    "        # Compare the first chunk with the expected value, simple inclusion check\n",
    "        return 1 if row['expected'] in actual_chunks[0] else 0\n",
    "    else:\n",
    "        return 'unknown'\n",
    "\n",
    "# Apply the function to each row\n",
    "df['is_correct'] = df.apply(determine_correctness, axis=1)\n"
   ]
  },
  {
   "cell_type": "code",
   "execution_count": 19,
   "metadata": {},
   "outputs": [],
   "source": [
    "# now save the file with same name so overwrite the file\n",
    "df.to_excel(file_path, index=False)"
   ]
  },
  {
   "cell_type": "code",
   "execution_count": 27,
   "metadata": {},
   "outputs": [
    {
     "data": {
      "text/plain": [
       "0.49"
      ]
     },
     "execution_count": 27,
     "metadata": {},
     "output_type": "execute_result"
    }
   ],
   "source": [
    "# now read the same file again and compute the accuracy\n",
    "correct_predictions = df['is_correct'].sum()\n",
    "total_predictions = df['is_correct'].count()\n",
    "accuracy = round(correct_predictions / total_predictions,2)\n",
    "accuracy"
   ]
  },
  {
   "cell_type": "markdown",
   "metadata": {},
   "source": [
    "predictions_mistral_v2_28-01-2024_excel is 0.50"
   ]
  },
  {
   "cell_type": "code",
   "execution_count": 34,
   "metadata": {},
   "outputs": [],
   "source": [
    "df = pd.read_excel('/Users/halilergul/Desktop/thesis_researcg/predictions/predictions_excel.xlsx')\n",
    "\n",
    "# Step 2: Clean the \"expected\" column by removing double quotes\n",
    "df['Expected'] = df['Expected'].str.replace('\"', '')\n",
    "\n",
    "# Step 3: Add a new column based on the condition\n",
    "def check_substring(actual, expected):\n",
    "    # Define a list of common words to ignore\n",
    "    common_words = {'and', 'or', 'the', 'with'}\n",
    "\n",
    "    # Splitting the expected and actual strings into words\n",
    "    expected_words = set(expected.split()) - common_words\n",
    "    actual_words = set(actual.split())\n",
    "\n",
    "    # Check if any of the words in expected_words is in actual_words\n",
    "    for word in expected_words:\n",
    "        if word in actual_words:\n",
    "            return 1\n",
    "    return 0\n",
    "\n",
    "\n",
    "# Applying the function row-wise\n",
    "df['match'] = df.apply(lambda row: check_substring(row['Actual'], row['Expected']), axis=1)\n",
    "\n",
    "# Step 4: Save the updated DataFrame to a new Excel file\n",
    "df.to_excel('/Users/halilergul/Desktop/thesis_researcg/predictions/modified_data.xlsx', index=False)\n"
   ]
  },
  {
   "cell_type": "code",
   "execution_count": 38,
   "metadata": {},
   "outputs": [
    {
     "data": {
      "text/plain": [
       "0.5"
      ]
     },
     "execution_count": 38,
     "metadata": {},
     "output_type": "execute_result"
    }
   ],
   "source": [
    "# now read the modified file  and compute the accuracy\n",
    "df = pd.read_excel('/Users/halilergul/Desktop/thesis_researcg/predictions/modified_data.xlsx')\n",
    "correct_predictions = df['match'].sum()\n",
    "total_predictions = df['match'].count()\n",
    "accuracy = round(correct_predictions / total_predictions,2)\n",
    "accuracy"
   ]
  },
  {
   "cell_type": "markdown",
   "metadata": {},
   "source": [
    "predictions_excel is 0.51"
   ]
  },
  {
   "cell_type": "code",
   "execution_count": 40,
   "metadata": {},
   "outputs": [],
   "source": [
    "df = pd.read_excel('/Users/halilergul/Desktop/thesis_researcg/predictions/predictions_mixtral_excel.xlsx')\n",
    "\n",
    "# Step 2: Clean the \"expected\" column by removing double quotes\n",
    "df['expected'] = df['expected'].str.replace('\"', '')\n",
    "\n",
    "# Step 3: Add a new column based on the condition\n",
    "def check_substring(actual, expected):\n",
    "    # Define a list of common words to ignore\n",
    "    common_words = {'and', 'or', 'the', 'with'}\n",
    "\n",
    "    # Splitting the expected and actual strings into words\n",
    "    expected_words = set(expected.split()) - common_words\n",
    "    actual_words = set(actual.split())\n",
    "\n",
    "    # Check if any of the words in expected_words is in actual_words\n",
    "    for word in expected_words:\n",
    "        if word in actual_words:\n",
    "            return 1\n",
    "    return 0\n",
    "\n",
    "\n",
    "# Applying the function row-wise\n",
    "df['match'] = df.apply(lambda row: check_substring(row['actual'], row['expected']), axis=1)\n",
    "\n",
    "# Step 4: Save the updated DataFrame to a new Excel file\n",
    "df.to_excel('/Users/halilergul/Desktop/thesis_researcg/predictions/predictions_mixtral_excel.xlsx', index=False)\n"
   ]
  },
  {
   "cell_type": "code",
   "execution_count": 41,
   "metadata": {},
   "outputs": [
    {
     "data": {
      "text/plain": [
       "0.47"
      ]
     },
     "execution_count": 41,
     "metadata": {},
     "output_type": "execute_result"
    }
   ],
   "source": [
    "# now read the modified file  and compute the accuracy\n",
    "df = pd.read_excel('/Users/halilergul/Desktop/thesis_researcg/predictions/predictions_mixtral_excel.xlsx')\n",
    "correct_predictions = df['match'].sum()\n",
    "total_predictions = df['match'].count()\n",
    "accuracy = round(correct_predictions / total_predictions,2)\n",
    "accuracy\n"
   ]
  },
  {
   "cell_type": "code",
   "execution_count": 42,
   "metadata": {},
   "outputs": [],
   "source": [
    "\n",
    "df = pd.read_excel('/Users/halilergul/Desktop/thesis_researcg/predictions/predictions_same_instructions_mistral_v2_28-01-2024_excel.xlsx')\n",
    "\n",
    "# Step 2: Clean the \"expected\" column by removing double quotes\n",
    "df['expected'] = df['expected'].str.replace('\"', '')\n",
    "\n",
    "# Step 3: Add a new column based on the condition\n",
    "def check_substring(actual, expected):\n",
    "    # Define a list of common words to ignore\n",
    "    common_words = {'and', 'or', 'the', 'with'}\n",
    "\n",
    "    # Splitting the expected and actual strings into words\n",
    "    expected_words = set(expected.split()) - common_words\n",
    "    actual_words = set(actual.split())\n",
    "\n",
    "    # Check if any of the words in expected_words is in actual_words\n",
    "    for word in expected_words:\n",
    "        if word in actual_words:\n",
    "            return 1\n",
    "    return 0\n",
    "\n",
    "\n",
    "# Applying the function row-wise\n",
    "df['match'] = df.apply(lambda row: check_substring(row['actual'], row['expected']), axis=1)\n",
    "\n",
    "# Step 4: Save the updated DataFrame to a new Excel file\n",
    "df.to_excel('/Users/halilergul/Desktop/thesis_researcg/predictions/predictions_same_instructions_mistral_v2_28-01-2024_excel.xlsx', index=False)\n"
   ]
  },
  {
   "cell_type": "code",
   "execution_count": 55,
   "metadata": {},
   "outputs": [
    {
     "data": {
      "text/plain": [
       "0.51"
      ]
     },
     "execution_count": 55,
     "metadata": {},
     "output_type": "execute_result"
    }
   ],
   "source": [
    "# now read the modified file and compute the  accuracy\n",
    "df = pd.read_excel('/Users/halilergul/Desktop/thesis_researcg/predictions/predictions_same_instructions_mistral_v2_28-01-2024_excel.xlsx')\n",
    "correct_predictions = df['match'].sum()\n",
    "total_predictions = df['match'].count()\n",
    "accuracy = round(correct_predictions / total_predictions,2)\n",
    "accuracy\n",
    "\n"
   ]
  },
  {
   "cell_type": "code",
   "execution_count": 51,
   "metadata": {},
   "outputs": [
    {
     "ename": "ValueError",
     "evalue": "could not convert string to float: 'Clothing and Accessories, Clothing and Accessories, Clothing and Accessories, Clothing and Accessories, Clothing and Accessories, Clothing and Accessories, Clothing and Accessories. Clothing and Accessories\\n\\nI predicted Clothing and Accessories because you have bought items from this category 11 times in total, and you have spent 38.32 dollars on average. You have also bought items from this category from the following locations: Üsküdar/İstanbul, Üsküdar/İstanbul, Üsküdar/İstanbul, Üsküdar/İstanbul, Üsküdar/İstanbul, Üsküdar/İstanbul, Üsküdar/İstanbul.'",
     "output_type": "error",
     "traceback": [
      "\u001b[0;31m---------------------------------------------------------------------------\u001b[0m",
      "\u001b[0;31mValueError\u001b[0m                                Traceback (most recent call last)",
      "Cell \u001b[0;32mIn [51], line 4\u001b[0m\n\u001b[1;32m      2\u001b[0m df \u001b[38;5;241m=\u001b[39m pd\u001b[38;5;241m.\u001b[39mread_excel(\u001b[38;5;124m'\u001b[39m\u001b[38;5;124m/Users/halilergul/Desktop/thesis_researcg/predictions/predictions_same_instructions_mistral_v2_28-01-2024_excel.xlsx\u001b[39m\u001b[38;5;124m'\u001b[39m)\n\u001b[1;32m      3\u001b[0m \u001b[38;5;28;01mfrom\u001b[39;00m \u001b[38;5;21;01msklearn\u001b[39;00m\u001b[38;5;21;01m.\u001b[39;00m\u001b[38;5;21;01mmetrics\u001b[39;00m \u001b[38;5;28;01mimport\u001b[39;00m roc_auc_score\n\u001b[0;32m----> 4\u001b[0m \u001b[43mroc_auc_score\u001b[49m\u001b[43m(\u001b[49m\u001b[43mdf\u001b[49m\u001b[43m[\u001b[49m\u001b[38;5;124;43m'\u001b[39;49m\u001b[38;5;124;43mexpected\u001b[39;49m\u001b[38;5;124;43m'\u001b[39;49m\u001b[43m]\u001b[49m\u001b[43m,\u001b[49m\u001b[43m \u001b[49m\u001b[43mdf\u001b[49m\u001b[43m[\u001b[49m\u001b[38;5;124;43m'\u001b[39;49m\u001b[38;5;124;43mactual\u001b[39;49m\u001b[38;5;124;43m'\u001b[39;49m\u001b[43m]\u001b[49m\u001b[43m)\u001b[49m\n",
      "File \u001b[0;32m/Library/Frameworks/Python.framework/Versions/3.10/lib/python3.10/site-packages/sklearn/metrics/_ranking.py:551\u001b[0m, in \u001b[0;36mroc_auc_score\u001b[0;34m(y_true, y_score, average, sample_weight, max_fpr, multi_class, labels)\u001b[0m\n\u001b[1;32m    549\u001b[0m y_type \u001b[38;5;241m=\u001b[39m type_of_target(y_true, input_name\u001b[38;5;241m=\u001b[39m\u001b[38;5;124m\"\u001b[39m\u001b[38;5;124my_true\u001b[39m\u001b[38;5;124m\"\u001b[39m)\n\u001b[1;32m    550\u001b[0m y_true \u001b[38;5;241m=\u001b[39m check_array(y_true, ensure_2d\u001b[38;5;241m=\u001b[39m\u001b[38;5;28;01mFalse\u001b[39;00m, dtype\u001b[38;5;241m=\u001b[39m\u001b[38;5;28;01mNone\u001b[39;00m)\n\u001b[0;32m--> 551\u001b[0m y_score \u001b[38;5;241m=\u001b[39m \u001b[43mcheck_array\u001b[49m\u001b[43m(\u001b[49m\u001b[43my_score\u001b[49m\u001b[43m,\u001b[49m\u001b[43m \u001b[49m\u001b[43mensure_2d\u001b[49m\u001b[38;5;241;43m=\u001b[39;49m\u001b[38;5;28;43;01mFalse\u001b[39;49;00m\u001b[43m)\u001b[49m\n\u001b[1;32m    553\u001b[0m \u001b[38;5;28;01mif\u001b[39;00m y_type \u001b[38;5;241m==\u001b[39m \u001b[38;5;124m\"\u001b[39m\u001b[38;5;124mmulticlass\u001b[39m\u001b[38;5;124m\"\u001b[39m \u001b[38;5;129;01mor\u001b[39;00m (\n\u001b[1;32m    554\u001b[0m     y_type \u001b[38;5;241m==\u001b[39m \u001b[38;5;124m\"\u001b[39m\u001b[38;5;124mbinary\u001b[39m\u001b[38;5;124m\"\u001b[39m \u001b[38;5;129;01mand\u001b[39;00m y_score\u001b[38;5;241m.\u001b[39mndim \u001b[38;5;241m==\u001b[39m \u001b[38;5;241m2\u001b[39m \u001b[38;5;129;01mand\u001b[39;00m y_score\u001b[38;5;241m.\u001b[39mshape[\u001b[38;5;241m1\u001b[39m] \u001b[38;5;241m>\u001b[39m \u001b[38;5;241m2\u001b[39m\n\u001b[1;32m    555\u001b[0m ):\n\u001b[1;32m    556\u001b[0m     \u001b[38;5;66;03m# do not support partial ROC computation for multiclass\u001b[39;00m\n\u001b[1;32m    557\u001b[0m     \u001b[38;5;28;01mif\u001b[39;00m max_fpr \u001b[38;5;129;01mis\u001b[39;00m \u001b[38;5;129;01mnot\u001b[39;00m \u001b[38;5;28;01mNone\u001b[39;00m \u001b[38;5;129;01mand\u001b[39;00m max_fpr \u001b[38;5;241m!=\u001b[39m \u001b[38;5;241m1.0\u001b[39m:\n",
      "File \u001b[0;32m/Library/Frameworks/Python.framework/Versions/3.10/lib/python3.10/site-packages/sklearn/utils/validation.py:877\u001b[0m, in \u001b[0;36mcheck_array\u001b[0;34m(array, accept_sparse, accept_large_sparse, dtype, order, copy, force_all_finite, ensure_2d, allow_nd, ensure_min_samples, ensure_min_features, estimator, input_name)\u001b[0m\n\u001b[1;32m    875\u001b[0m         array \u001b[38;5;241m=\u001b[39m xp\u001b[38;5;241m.\u001b[39mastype(array, dtype, copy\u001b[38;5;241m=\u001b[39m\u001b[38;5;28;01mFalse\u001b[39;00m)\n\u001b[1;32m    876\u001b[0m     \u001b[38;5;28;01melse\u001b[39;00m:\n\u001b[0;32m--> 877\u001b[0m         array \u001b[38;5;241m=\u001b[39m \u001b[43m_asarray_with_order\u001b[49m\u001b[43m(\u001b[49m\u001b[43marray\u001b[49m\u001b[43m,\u001b[49m\u001b[43m \u001b[49m\u001b[43morder\u001b[49m\u001b[38;5;241;43m=\u001b[39;49m\u001b[43morder\u001b[49m\u001b[43m,\u001b[49m\u001b[43m \u001b[49m\u001b[43mdtype\u001b[49m\u001b[38;5;241;43m=\u001b[39;49m\u001b[43mdtype\u001b[49m\u001b[43m,\u001b[49m\u001b[43m \u001b[49m\u001b[43mxp\u001b[49m\u001b[38;5;241;43m=\u001b[39;49m\u001b[43mxp\u001b[49m\u001b[43m)\u001b[49m\n\u001b[1;32m    878\u001b[0m \u001b[38;5;28;01mexcept\u001b[39;00m ComplexWarning \u001b[38;5;28;01mas\u001b[39;00m complex_warning:\n\u001b[1;32m    879\u001b[0m     \u001b[38;5;28;01mraise\u001b[39;00m \u001b[38;5;167;01mValueError\u001b[39;00m(\n\u001b[1;32m    880\u001b[0m         \u001b[38;5;124m\"\u001b[39m\u001b[38;5;124mComplex data not supported\u001b[39m\u001b[38;5;130;01m\\n\u001b[39;00m\u001b[38;5;132;01m{}\u001b[39;00m\u001b[38;5;130;01m\\n\u001b[39;00m\u001b[38;5;124m\"\u001b[39m\u001b[38;5;241m.\u001b[39mformat(array)\n\u001b[1;32m    881\u001b[0m     ) \u001b[38;5;28;01mfrom\u001b[39;00m \u001b[38;5;21;01mcomplex_warning\u001b[39;00m\n",
      "File \u001b[0;32m/Library/Frameworks/Python.framework/Versions/3.10/lib/python3.10/site-packages/sklearn/utils/_array_api.py:185\u001b[0m, in \u001b[0;36m_asarray_with_order\u001b[0;34m(array, dtype, order, copy, xp)\u001b[0m\n\u001b[1;32m    182\u001b[0m     xp, _ \u001b[38;5;241m=\u001b[39m get_namespace(array)\n\u001b[1;32m    183\u001b[0m \u001b[38;5;28;01mif\u001b[39;00m xp\u001b[38;5;241m.\u001b[39m\u001b[38;5;18m__name__\u001b[39m \u001b[38;5;129;01min\u001b[39;00m {\u001b[38;5;124m\"\u001b[39m\u001b[38;5;124mnumpy\u001b[39m\u001b[38;5;124m\"\u001b[39m, \u001b[38;5;124m\"\u001b[39m\u001b[38;5;124mnumpy.array_api\u001b[39m\u001b[38;5;124m\"\u001b[39m}:\n\u001b[1;32m    184\u001b[0m     \u001b[38;5;66;03m# Use NumPy API to support order\u001b[39;00m\n\u001b[0;32m--> 185\u001b[0m     array \u001b[38;5;241m=\u001b[39m \u001b[43mnumpy\u001b[49m\u001b[38;5;241;43m.\u001b[39;49m\u001b[43masarray\u001b[49m\u001b[43m(\u001b[49m\u001b[43marray\u001b[49m\u001b[43m,\u001b[49m\u001b[43m \u001b[49m\u001b[43morder\u001b[49m\u001b[38;5;241;43m=\u001b[39;49m\u001b[43morder\u001b[49m\u001b[43m,\u001b[49m\u001b[43m \u001b[49m\u001b[43mdtype\u001b[49m\u001b[38;5;241;43m=\u001b[39;49m\u001b[43mdtype\u001b[49m\u001b[43m)\u001b[49m\n\u001b[1;32m    186\u001b[0m     \u001b[38;5;28;01mreturn\u001b[39;00m xp\u001b[38;5;241m.\u001b[39masarray(array, copy\u001b[38;5;241m=\u001b[39mcopy)\n\u001b[1;32m    187\u001b[0m \u001b[38;5;28;01melse\u001b[39;00m:\n",
      "File \u001b[0;32m/Library/Frameworks/Python.framework/Versions/3.10/lib/python3.10/site-packages/pandas/core/series.py:894\u001b[0m, in \u001b[0;36mSeries.__array__\u001b[0;34m(self, dtype)\u001b[0m\n\u001b[1;32m    847\u001b[0m \u001b[38;5;28;01mdef\u001b[39;00m \u001b[38;5;21m__array__\u001b[39m(\u001b[38;5;28mself\u001b[39m, dtype: npt\u001b[38;5;241m.\u001b[39mDTypeLike \u001b[38;5;241m|\u001b[39m \u001b[38;5;28;01mNone\u001b[39;00m \u001b[38;5;241m=\u001b[39m \u001b[38;5;28;01mNone\u001b[39;00m) \u001b[38;5;241m-\u001b[39m\u001b[38;5;241m>\u001b[39m np\u001b[38;5;241m.\u001b[39mndarray:\n\u001b[1;32m    848\u001b[0m     \u001b[38;5;124;03m\"\"\"\u001b[39;00m\n\u001b[1;32m    849\u001b[0m \u001b[38;5;124;03m    Return the values as a NumPy array.\u001b[39;00m\n\u001b[1;32m    850\u001b[0m \n\u001b[0;32m   (...)\u001b[0m\n\u001b[1;32m    892\u001b[0m \u001b[38;5;124;03m          dtype='datetime64[ns]')\u001b[39;00m\n\u001b[1;32m    893\u001b[0m \u001b[38;5;124;03m    \"\"\"\u001b[39;00m\n\u001b[0;32m--> 894\u001b[0m     \u001b[38;5;28;01mreturn\u001b[39;00m \u001b[43mnp\u001b[49m\u001b[38;5;241;43m.\u001b[39;49m\u001b[43masarray\u001b[49m\u001b[43m(\u001b[49m\u001b[38;5;28;43mself\u001b[39;49m\u001b[38;5;241;43m.\u001b[39;49m\u001b[43m_values\u001b[49m\u001b[43m,\u001b[49m\u001b[43m \u001b[49m\u001b[43mdtype\u001b[49m\u001b[43m)\u001b[49m\n",
      "\u001b[0;31mValueError\u001b[0m: could not convert string to float: 'Clothing and Accessories, Clothing and Accessories, Clothing and Accessories, Clothing and Accessories, Clothing and Accessories, Clothing and Accessories, Clothing and Accessories. Clothing and Accessories\\n\\nI predicted Clothing and Accessories because you have bought items from this category 11 times in total, and you have spent 38.32 dollars on average. You have also bought items from this category from the following locations: Üsküdar/İstanbul, Üsküdar/İstanbul, Üsküdar/İstanbul, Üsküdar/İstanbul, Üsküdar/İstanbul, Üsküdar/İstanbul, Üsküdar/İstanbul.'"
     ]
    }
   ],
   "source": [
    "# now I want to compute AUC for the same file\n",
    "df = pd.read_excel('/Users/halilergul/Desktop/thesis_researcg/predictions/predictions_same_instructions_mistral_v2_28-01-2024_excel.xlsx')\n",
    "from sklearn.metrics import roc_auc_score\n",
    "roc_auc_score(df['expected'], df['actual'])\n"
   ]
  },
  {
   "cell_type": "code",
   "execution_count": 47,
   "metadata": {},
   "outputs": [],
   "source": [
    "df = pd.read_excel('/Users/halilergul/Desktop/thesis_researcg/predictions/predictions_same_instructions_mistral_v1_29-01-2024_excel.xlsx')\n",
    "\n",
    "# Step 2: Clean the \"expected\" column by removing double quotes\n",
    "df['expected'] = df['expected'].str.replace('\"', '')\n",
    "\n",
    "# Step 3: Add a new column based on the condition\n",
    "def check_substring(actual, expected):\n",
    "    # Define a list of common words to ignore\n",
    "    common_words = {'and', 'or', 'the', 'with'}\n",
    "\n",
    "    # Splitting the expected and actual strings into words\n",
    "    expected_words = set(expected.split()) - common_words\n",
    "    actual_words = set(actual.split())\n",
    "\n",
    "    # Check if any of the words in expected_words is in actual_words\n",
    "    for word in expected_words:\n",
    "        if word in actual_words:\n",
    "            return 1\n",
    "    return 0\n",
    "\n",
    "# Applying the function row-wise\n",
    "df['match'] = df.apply(lambda row: check_substring(row['actual'], row['expected']), axis=1)\n",
    "\n",
    "# Step 4: Save the updated DataFrame to a new Excel file\n",
    "df.to_excel('/Users/halilergul/Desktop/thesis_researcg/predictions/predictions_same_instructions_mistral_v1_29-01-2024_excel.xlsx', index=False)\n"
   ]
  },
  {
   "cell_type": "code",
   "execution_count": 48,
   "metadata": {},
   "outputs": [
    {
     "data": {
      "text/plain": [
       "0.39"
      ]
     },
     "execution_count": 48,
     "metadata": {},
     "output_type": "execute_result"
    }
   ],
   "source": [
    "# now read the modified file  and compute the accuracy\n",
    "df = pd.read_excel('/Users/halilergul/Desktop/thesis_researcg/predictions/predictions_same_instructions_mistral_v1_29-01-2024_excel.xlsx')\n",
    "correct_predictions = df['match'].sum()\n",
    "total_predictions = df['match'].count()\n",
    "accuracy = round(correct_predictions / total_predictions,2)\n",
    "accuracy"
   ]
  },
  {
   "cell_type": "markdown",
   "metadata": {},
   "source": [
    "# detailed evaluation"
   ]
  },
  {
   "cell_type": "code",
   "execution_count": 42,
   "metadata": {},
   "outputs": [],
   "source": [
    "# read csv file of predictions\n",
    "import pandas as pd\n",
    "import re\n",
    "df = pd.read_csv('/Users/halilergul/Desktop/thesis_researcg/new_predictions/predictions_high_temp.csv')\n",
    "\n",
    "# Define the function to check for category matches\n",
    "def check_match(row):\n",
    "    # Extract categories from the expected and actual strings\n",
    "    expected_category = re.search(r'<(.*?)>', row['expected']).group(1) if re.search(r'<(.*?)>', row['expected']) else ''\n",
    "    actual_categories = re.findall(r'<(.*?)>', row['actual'])\n",
    "    \n",
    "    # Check if the expected category is in the actual categories\n",
    "    return 1 if expected_category in actual_categories else 0\n",
    "\n",
    "# Apply the function to create the new 'match' column\n",
    "df['match'] = df.apply(check_match, axis=1)\n",
    "\n",
    "# now save this file into xlsx\n",
    "df.to_excel('/Users/halilergul/Desktop/thesis_researcg/new_predictions/predictions_high_temp_excel.xlsx', index=False)"
   ]
  },
  {
   "cell_type": "code",
   "execution_count": 56,
   "metadata": {},
   "outputs": [
    {
     "data": {
      "text/html": [
       "<div>\n",
       "<style scoped>\n",
       "    .dataframe tbody tr th:only-of-type {\n",
       "        vertical-align: middle;\n",
       "    }\n",
       "\n",
       "    .dataframe tbody tr th {\n",
       "        vertical-align: top;\n",
       "    }\n",
       "\n",
       "    .dataframe thead th {\n",
       "        text-align: right;\n",
       "    }\n",
       "</style>\n",
       "<table border=\"1\" class=\"dataframe\">\n",
       "  <thead>\n",
       "    <tr style=\"text-align: right;\">\n",
       "      <th></th>\n",
       "      <th>input</th>\n",
       "      <th>expected</th>\n",
       "      <th>actual</th>\n",
       "      <th>match</th>\n",
       "    </tr>\n",
       "  </thead>\n",
       "  <tbody>\n",
       "    <tr>\n",
       "      <th>0</th>\n",
       "      <td>&lt;s&gt;[INST] Based on my demographic details and ...</td>\n",
       "      <td>&lt;Clothing&gt;.&lt;/s&gt;</td>\n",
       "      <td>&lt;Grocery&gt;. Your next purchase is likely to be ...</td>\n",
       "      <td>0</td>\n",
       "    </tr>\n",
       "    <tr>\n",
       "      <th>1</th>\n",
       "      <td>&lt;s&gt;[INST] Based on my demographic details and ...</td>\n",
       "      <td>&lt;Clothing&gt;.&lt;/s&gt;</td>\n",
       "      <td>&lt;Grocery&gt;. I predict that &lt;Grocery&gt; will be yo...</td>\n",
       "      <td>0</td>\n",
       "    </tr>\n",
       "    <tr>\n",
       "      <th>2</th>\n",
       "      <td>&lt;s&gt;[INST] Based on my demographic details and ...</td>\n",
       "      <td>&lt;Clothing&gt;.&lt;/s&gt;</td>\n",
       "      <td>&lt;Clothing&gt;. Your recent purchasing history sho...</td>\n",
       "      <td>0</td>\n",
       "    </tr>\n",
       "    <tr>\n",
       "      <th>3</th>\n",
       "      <td>&lt;s&gt;[INST] Based on my demographic details and ...</td>\n",
       "      <td>&lt;Clothing&gt;.&lt;/s&gt;</td>\n",
       "      <td>&lt;Clothing&gt;. You have been buying clothing item...</td>\n",
       "      <td>0</td>\n",
       "    </tr>\n",
       "    <tr>\n",
       "      <th>4</th>\n",
       "      <td>&lt;s&gt;[INST] Based on my demographic details and ...</td>\n",
       "      <td>&lt;Clothing&gt;.&lt;/s&gt;</td>\n",
       "      <td>&lt;Grocery&gt;. I predict that &lt;Grocery&gt; will be yo...</td>\n",
       "      <td>0</td>\n",
       "    </tr>\n",
       "    <tr>\n",
       "      <th>...</th>\n",
       "      <td>...</td>\n",
       "      <td>...</td>\n",
       "      <td>...</td>\n",
       "      <td>...</td>\n",
       "    </tr>\n",
       "    <tr>\n",
       "      <th>764</th>\n",
       "      <td>&lt;s&gt;[INST] Based on my demographic details and ...</td>\n",
       "      <td>&lt;Grocery&gt;.&lt;/s&gt;</td>\n",
       "      <td>&lt;Grocery&gt;. I predict that &lt;Grocery&gt; will be yo...</td>\n",
       "      <td>0</td>\n",
       "    </tr>\n",
       "    <tr>\n",
       "      <th>765</th>\n",
       "      <td>&lt;s&gt;[INST] Based on my demographic details and ...</td>\n",
       "      <td>&lt;Grocery&gt;.&lt;/s&gt;</td>\n",
       "      <td>&lt;Grocery&gt;. I predict that &lt;Grocery&gt; will be yo...</td>\n",
       "      <td>0</td>\n",
       "    </tr>\n",
       "    <tr>\n",
       "      <th>766</th>\n",
       "      <td>&lt;s&gt;[INST] Based on my demographic details and ...</td>\n",
       "      <td>&lt;Grocery&gt;.&lt;/s&gt;</td>\n",
       "      <td>&lt;Grocery&gt;. I predict that &lt;Grocery&gt; will be yo...</td>\n",
       "      <td>0</td>\n",
       "    </tr>\n",
       "    <tr>\n",
       "      <th>767</th>\n",
       "      <td>&lt;s&gt;[INST] Based on my demographic details and ...</td>\n",
       "      <td>&lt;Gas stations&gt;.&lt;/s&gt;</td>\n",
       "      <td>&lt;Grocery&gt;. I predict that &lt;Grocery&gt; will be yo...</td>\n",
       "      <td>0</td>\n",
       "    </tr>\n",
       "    <tr>\n",
       "      <th>768</th>\n",
       "      <td>&lt;s&gt;[INST] Based on my demographic details and ...</td>\n",
       "      <td>&lt;Clothing&gt;.&lt;/s&gt;</td>\n",
       "      <td>&lt;Grocery&gt;. I predict that &lt;Grocery&gt; will be yo...</td>\n",
       "      <td>0</td>\n",
       "    </tr>\n",
       "  </tbody>\n",
       "</table>\n",
       "<p>769 rows × 4 columns</p>\n",
       "</div>"
      ],
      "text/plain": [
       "                                                 input             expected  \\\n",
       "0    <s>[INST] Based on my demographic details and ...      <Clothing>.</s>   \n",
       "1    <s>[INST] Based on my demographic details and ...      <Clothing>.</s>   \n",
       "2    <s>[INST] Based on my demographic details and ...      <Clothing>.</s>   \n",
       "3    <s>[INST] Based on my demographic details and ...      <Clothing>.</s>   \n",
       "4    <s>[INST] Based on my demographic details and ...      <Clothing>.</s>   \n",
       "..                                                 ...                  ...   \n",
       "764  <s>[INST] Based on my demographic details and ...       <Grocery>.</s>   \n",
       "765  <s>[INST] Based on my demographic details and ...       <Grocery>.</s>   \n",
       "766  <s>[INST] Based on my demographic details and ...       <Grocery>.</s>   \n",
       "767  <s>[INST] Based on my demographic details and ...  <Gas stations>.</s>   \n",
       "768  <s>[INST] Based on my demographic details and ...      <Clothing>.</s>   \n",
       "\n",
       "                                                actual  match  \n",
       "0    <Grocery>. Your next purchase is likely to be ...      0  \n",
       "1    <Grocery>. I predict that <Grocery> will be yo...      0  \n",
       "2    <Clothing>. Your recent purchasing history sho...      0  \n",
       "3    <Clothing>. You have been buying clothing item...      0  \n",
       "4    <Grocery>. I predict that <Grocery> will be yo...      0  \n",
       "..                                                 ...    ...  \n",
       "764  <Grocery>. I predict that <Grocery> will be yo...      0  \n",
       "765  <Grocery>. I predict that <Grocery> will be yo...      0  \n",
       "766  <Grocery>. I predict that <Grocery> will be yo...      0  \n",
       "767  <Grocery>. I predict that <Grocery> will be yo...      0  \n",
       "768  <Grocery>. I predict that <Grocery> will be yo...      0  \n",
       "\n",
       "[769 rows x 4 columns]"
      ]
     },
     "execution_count": 56,
     "metadata": {},
     "output_type": "execute_result"
    }
   ],
   "source": [
    "df"
   ]
  },
  {
   "cell_type": "code",
   "execution_count": 43,
   "metadata": {},
   "outputs": [
    {
     "data": {
      "text/html": [
       "<div>\n",
       "<style scoped>\n",
       "    .dataframe tbody tr th:only-of-type {\n",
       "        vertical-align: middle;\n",
       "    }\n",
       "\n",
       "    .dataframe tbody tr th {\n",
       "        vertical-align: top;\n",
       "    }\n",
       "\n",
       "    .dataframe thead th {\n",
       "        text-align: right;\n",
       "    }\n",
       "</style>\n",
       "<table border=\"1\" class=\"dataframe\">\n",
       "  <thead>\n",
       "    <tr style=\"text-align: right;\">\n",
       "      <th></th>\n",
       "      <th>input</th>\n",
       "      <th>expected</th>\n",
       "      <th>actual</th>\n",
       "      <th>match</th>\n",
       "    </tr>\n",
       "  </thead>\n",
       "  <tbody>\n",
       "    <tr>\n",
       "      <th>26</th>\n",
       "      <td>&lt;s&gt;[INST] Based on my demographic details and ...</td>\n",
       "      <td>&lt;Gas stations&gt;.&lt;/s&gt;</td>\n",
       "      <td>&lt;Grocery stores&gt;. &lt;Grocery stores&gt;. &lt;Grocery s...</td>\n",
       "      <td>0</td>\n",
       "    </tr>\n",
       "    <tr>\n",
       "      <th>27</th>\n",
       "      <td>&lt;s&gt;[INST] Based on my demographic details and ...</td>\n",
       "      <td>&lt;Clothing stores&gt;.&lt;/s&gt;</td>\n",
       "      <td>&lt;Grocery stores&gt;. &lt;Grocery stores&gt;. &lt;Grocery s...</td>\n",
       "      <td>0</td>\n",
       "    </tr>\n",
       "    <tr>\n",
       "      <th>30</th>\n",
       "      <td>&lt;s&gt;[INST] Based on my demographic details and ...</td>\n",
       "      <td>&lt;Clothing stores&gt;.&lt;/s&gt;</td>\n",
       "      <td>&lt;Grocery stores&gt;. &lt;Grocery stores&gt;. &lt;Grocery s...</td>\n",
       "      <td>0</td>\n",
       "    </tr>\n",
       "    <tr>\n",
       "      <th>39</th>\n",
       "      <td>&lt;s&gt;[INST] Based on my demographic details and ...</td>\n",
       "      <td>&lt;Clothing stores&gt;.&lt;/s&gt;</td>\n",
       "      <td>&lt;Gas stations&gt;. &lt;Gas stations&gt;. &lt;Gas stations&gt;...</td>\n",
       "      <td>0</td>\n",
       "    </tr>\n",
       "    <tr>\n",
       "      <th>42</th>\n",
       "      <td>&lt;s&gt;[INST] Based on my demographic details and ...</td>\n",
       "      <td>&lt;Clothing stores&gt;.&lt;/s&gt;</td>\n",
       "      <td>&lt;Grocery stores&gt;. &lt;Grocery stores&gt;. &lt;Grocery s...</td>\n",
       "      <td>0</td>\n",
       "    </tr>\n",
       "    <tr>\n",
       "      <th>...</th>\n",
       "      <td>...</td>\n",
       "      <td>...</td>\n",
       "      <td>...</td>\n",
       "      <td>...</td>\n",
       "    </tr>\n",
       "    <tr>\n",
       "      <th>842</th>\n",
       "      <td>&lt;s&gt;[INST] Based on my demographic details and ...</td>\n",
       "      <td>&lt;Clothing stores&gt;.&lt;/s&gt;</td>\n",
       "      <td>&lt;Grocery stores&gt;. &lt;Grocery stores&gt;. &lt;Grocery s...</td>\n",
       "      <td>0</td>\n",
       "    </tr>\n",
       "    <tr>\n",
       "      <th>844</th>\n",
       "      <td>&lt;s&gt;[INST] Based on my demographic details and ...</td>\n",
       "      <td>&lt;Grocery stores&gt;.&lt;/s&gt;</td>\n",
       "      <td>&lt;Clothing stores&gt;. &lt;Clothing stores&gt;. &lt;Clothin...</td>\n",
       "      <td>0</td>\n",
       "    </tr>\n",
       "    <tr>\n",
       "      <th>846</th>\n",
       "      <td>&lt;s&gt;[INST] Based on my demographic details and ...</td>\n",
       "      <td>&lt;Grocery stores&gt;.&lt;/s&gt;</td>\n",
       "      <td>&lt;Clothing stores&gt;. &lt;Clothing stores&gt;. &lt;Clothin...</td>\n",
       "      <td>0</td>\n",
       "    </tr>\n",
       "    <tr>\n",
       "      <th>853</th>\n",
       "      <td>&lt;s&gt;[INST] Based on my demographic details and ...</td>\n",
       "      <td>&lt;Gas stations&gt;.&lt;/s&gt;</td>\n",
       "      <td>&lt;Grocery stores&gt;. &lt;Grocery stores&gt;. &lt;Grocery s...</td>\n",
       "      <td>0</td>\n",
       "    </tr>\n",
       "    <tr>\n",
       "      <th>854</th>\n",
       "      <td>&lt;s&gt;[INST] Based on my demographic details and ...</td>\n",
       "      <td>&lt;Grocery stores&gt;.&lt;/s&gt;</td>\n",
       "      <td>&lt;Gas stations&gt;. &lt;Gas stations&gt;. &lt;Gas stations&gt;...</td>\n",
       "      <td>0</td>\n",
       "    </tr>\n",
       "  </tbody>\n",
       "</table>\n",
       "<p>269 rows × 4 columns</p>\n",
       "</div>"
      ],
      "text/plain": [
       "                                                 input  \\\n",
       "26   <s>[INST] Based on my demographic details and ...   \n",
       "27   <s>[INST] Based on my demographic details and ...   \n",
       "30   <s>[INST] Based on my demographic details and ...   \n",
       "39   <s>[INST] Based on my demographic details and ...   \n",
       "42   <s>[INST] Based on my demographic details and ...   \n",
       "..                                                 ...   \n",
       "842  <s>[INST] Based on my demographic details and ...   \n",
       "844  <s>[INST] Based on my demographic details and ...   \n",
       "846  <s>[INST] Based on my demographic details and ...   \n",
       "853  <s>[INST] Based on my demographic details and ...   \n",
       "854  <s>[INST] Based on my demographic details and ...   \n",
       "\n",
       "                   expected  \\\n",
       "26      <Gas stations>.</s>   \n",
       "27   <Clothing stores>.</s>   \n",
       "30   <Clothing stores>.</s>   \n",
       "39   <Clothing stores>.</s>   \n",
       "42   <Clothing stores>.</s>   \n",
       "..                      ...   \n",
       "842  <Clothing stores>.</s>   \n",
       "844   <Grocery stores>.</s>   \n",
       "846   <Grocery stores>.</s>   \n",
       "853     <Gas stations>.</s>   \n",
       "854   <Grocery stores>.</s>   \n",
       "\n",
       "                                                actual  match  \n",
       "26   <Grocery stores>. <Grocery stores>. <Grocery s...      0  \n",
       "27   <Grocery stores>. <Grocery stores>. <Grocery s...      0  \n",
       "30   <Grocery stores>. <Grocery stores>. <Grocery s...      0  \n",
       "39   <Gas stations>. <Gas stations>. <Gas stations>...      0  \n",
       "42   <Grocery stores>. <Grocery stores>. <Grocery s...      0  \n",
       "..                                                 ...    ...  \n",
       "842  <Grocery stores>. <Grocery stores>. <Grocery s...      0  \n",
       "844  <Clothing stores>. <Clothing stores>. <Clothin...      0  \n",
       "846  <Clothing stores>. <Clothing stores>. <Clothin...      0  \n",
       "853  <Grocery stores>. <Grocery stores>. <Grocery s...      0  \n",
       "854  <Gas stations>. <Gas stations>. <Gas stations>...      0  \n",
       "\n",
       "[269 rows x 4 columns]"
      ]
     },
     "execution_count": 43,
     "metadata": {},
     "output_type": "execute_result"
    }
   ],
   "source": [
    "# read the xlsx file\n",
    "df = pd.read_excel('/Users/halilergul/Desktop/thesis_researcg/new_predictions/predictions_high_temp_excel.xlsx')\n",
    "df[df[\"match\"]==0]"
   ]
  },
  {
   "cell_type": "code",
   "execution_count": 38,
   "metadata": {},
   "outputs": [],
   "source": [
    "import pandas as pd\n",
    "from sklearn.metrics import precision_recall_fscore_support\n",
    "from sklearn.preprocessing import LabelEncoder\n",
    "\n",
    "# List of unique categories (replace with your actual categories)\n",
    "categories = ['Grocery', 'Gas stations', 'Clothing'] \n",
    "# categories = ['Grocery stores', 'Gas stations', 'Clothing stores']\n",
    "\n",
    "# Function to clean the 'actual' values\n",
    "def clean_actual(row, categories):\n",
    "    if row['match'] == 1:\n",
    "        return row['expected']\n",
    "    else:\n",
    "        # Try to find a category in the 'actual' text\n",
    "        for category in categories:\n",
    "            if category in row['actual']:\n",
    "                return category\n",
    "        return 'Other'  # Or a category that denotes an unknown/unmatched case\n",
    "\n",
    "# Apply the function to create a new 'clean_actual' column\n",
    "df['clean_actual'] = df.apply(lambda row: clean_actual(row, categories), axis=1)"
   ]
  },
  {
   "cell_type": "code",
   "execution_count": 39,
   "metadata": {},
   "outputs": [
    {
     "name": "stderr",
     "output_type": "stream",
     "text": [
      "/var/folders/rq/1_3v65yd0yn38jrwqf85v40w0000gn/T/ipykernel_27438/768986162.py:4: FutureWarning: The default value of regex will change from True to False in a future version. In addition, single character regular expressions will *not* be treated as literal strings when regex=True.\n",
      "  df['expected'] = df['expected'].str.replace('.', '')\n",
      "/var/folders/rq/1_3v65yd0yn38jrwqf85v40w0000gn/T/ipykernel_27438/768986162.py:9: FutureWarning: The default value of regex will change from True to False in a future version. In addition, single character regular expressions will *not* be treated as literal strings when regex=True.\n",
      "  df['clean_actual'] = df['clean_actual'].str.replace('.', '')\n"
     ]
    }
   ],
   "source": [
    "# clean the expected column and clean the clean_actual column from symbols like <, >, . , /s, </s>\n",
    "df['expected'] = df['expected'].str.replace('<', '')\n",
    "df['expected'] = df['expected'].str.replace('>', '')\n",
    "df['expected'] = df['expected'].str.replace('.', '')\n",
    "df['expected'] = df['expected'].str.replace('/s', '')\n",
    "df['expected'] = df['expected'].str.replace('</s', '')\n",
    "df['clean_actual'] = df['clean_actual'].str.replace('<', '')\n",
    "df['clean_actual'] = df['clean_actual'].str.replace('>', '')\n",
    "df['clean_actual'] = df['clean_actual'].str.replace('.', '')\n",
    "df['clean_actual'] = df['clean_actual'].str.replace('/s', '')\n",
    "df['clean_actual'] = df['clean_actual'].str.replace('</s', '')"
   ]
  },
  {
   "cell_type": "code",
   "execution_count": 40,
   "metadata": {},
   "outputs": [
    {
     "name": "stdout",
     "output_type": "stream",
     "text": [
      "Precision: 0.69\n",
      "Recall: 0.685\n",
      "F1 Score: 0.68\n"
     ]
    }
   ],
   "source": [
    "from sklearn.metrics import precision_recall_fscore_support\n",
    "from sklearn.preprocessing import LabelEncoder\n",
    "\n",
    "# Assuming 'df' is your pandas DataFrame with 'expected' and 'clean_actual' columns\n",
    "\n",
    "# Initialize the label encoder\n",
    "label_encoder = LabelEncoder()\n",
    "\n",
    "# Fit label encoder on the 'expected' categories\n",
    "label_encoder.fit(df['expected'])\n",
    "\n",
    "# Encode both 'expected' and 'clean_actual' columns\n",
    "expected_encoded = label_encoder.transform(df['expected'])\n",
    "actual_encoded = label_encoder.transform(df['clean_actual'])\n",
    "\n",
    "# Calculate precision, recall, and F1 scores\n",
    "precision, recall, f1, _ = precision_recall_fscore_support(expected_encoded, actual_encoded, average='weighted')\n",
    "# print the rounded version of precision, recall, and f1\n",
    "precision, recall, f1 = round(precision,2), round(recall,3), round(f1,3)\n",
    "print(\"Precision:\", precision)\n",
    "print(\"Recall:\", recall)\n",
    "print(\"F1 Score:\", f1)\n"
   ]
  },
  {
   "cell_type": "code",
   "execution_count": 41,
   "metadata": {},
   "outputs": [
    {
     "name": "stdout",
     "output_type": "stream",
     "text": [
      "Category: Clothing\n",
      " Precision: 0.6829\n",
      " Recall: 0.4828\n",
      " F1 Score: 0.57\n",
      " Support: 174\n",
      "\n",
      "Category: Gas stations\n",
      " Precision: 0.599\n",
      " Recall: 0.6571\n",
      " F1 Score: 0.63\n",
      " Support: 175\n",
      "\n",
      "Category: Grocery\n",
      " Precision: 0.7214\n",
      " Recall: 0.7786\n",
      " F1 Score: 0.75\n",
      " Support: 429\n",
      "\n"
     ]
    }
   ],
   "source": [
    "from sklearn.metrics import precision_recall_fscore_support\n",
    "from sklearn.preprocessing import LabelEncoder\n",
    "\n",
    "# Assuming 'df' is your pandas DataFrame with 'expected' and 'clean_actual' columns\n",
    "\n",
    "# Initialize the label encoder\n",
    "label_encoder = LabelEncoder()\n",
    "\n",
    "# Fit label encoder on the 'expected' categories\n",
    "label_encoder.fit(df['expected'])\n",
    "\n",
    "# Encode both 'expected' and 'clean_actual' columns\n",
    "expected_encoded = label_encoder.transform(df['expected'])\n",
    "actual_encoded = label_encoder.transform(df['clean_actual'])\n",
    "\n",
    "# Calculate precision, recall, and F1 scores for each class\n",
    "precision, recall, f1, support = precision_recall_fscore_support(expected_encoded, actual_encoded)\n",
    "\n",
    "# Get category names\n",
    "categories = label_encoder.classes_\n",
    "\n",
    "# Print precision, recall, and F1 scores for each category\n",
    "for i, category in enumerate(categories):\n",
    "    print(f\"Category: {category}\")\n",
    "    print(f\" Precision: {round(precision[i],4)}\")\n",
    "    print(f\" Recall: {round(recall[i],4)}\")\n",
    "    print(f\" F1 Score: {round(f1[i],2)}\")\n",
    "    print(f\" Support: {round(support[i],2)}\\n\")\n"
   ]
  },
  {
   "cell_type": "code",
   "execution_count": 94,
   "metadata": {},
   "outputs": [],
   "source": [
    "# save df to excel\n",
    "df.to_excel('/Users/halilergul/Desktop/thesis_researcg/new_predictions/predictions_excel_real.xlsx', index=False)"
   ]
  }
 ],
 "metadata": {
  "kernelspec": {
   "display_name": "Python 3",
   "language": "python",
   "name": "python3"
  },
  "language_info": {
   "codemirror_mode": {
    "name": "ipython",
    "version": 3
   },
   "file_extension": ".py",
   "mimetype": "text/x-python",
   "name": "python",
   "nbconvert_exporter": "python",
   "pygments_lexer": "ipython3",
   "version": "3.10.7"
  }
 },
 "nbformat": 4,
 "nbformat_minor": 2
}
